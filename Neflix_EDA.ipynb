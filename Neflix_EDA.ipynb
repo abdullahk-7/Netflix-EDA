{
 "cells": [
  {
   "cell_type": "markdown",
   "id": "c22d0bf1-b8d9-439e-a464-288e78dd08b2",
   "metadata": {},
   "source": [
    "## Importing all libraries"
   ]
  },
  {
   "cell_type": "code",
   "execution_count": 11,
   "id": "6ba7f835-1bdf-4e07-af8b-343efa285102",
   "metadata": {},
   "outputs": [],
   "source": [
    "from pyspark.sql import SparkSession\n",
    "from pyspark.sql import functions as F\n",
    "from pyspark.sql.functions import col, count, desc, avg, max, min, split, length, collect_list\n",
    "import os"
   ]
  },
  {
   "cell_type": "markdown",
   "id": "6a2e519e-f0a7-41d1-b7b9-82801c76cb1e",
   "metadata": {},
   "source": [
    "## Creating spark session"
   ]
  },
  {
   "cell_type": "code",
   "execution_count": 12,
   "id": "39a42a1e-71d9-4d8b-b1c1-04e8b1028288",
   "metadata": {},
   "outputs": [],
   "source": [
    "def create_spark_session():\n",
    "    return SparkSession.builder \\\n",
    "        .appName(\"Netflix Dataset EDA\") \\\n",
    "        .getOrCreate()"
   ]
  },
  {
   "cell_type": "markdown",
   "id": "d7014eef-efce-450e-aa97-950393f06a6d",
   "metadata": {},
   "source": [
    "## Loading Dataset"
   ]
  },
  {
   "cell_type": "code",
   "execution_count": 13,
   "id": "56229c35-7b96-4dd2-ab97-d7ee9b5704f9",
   "metadata": {},
   "outputs": [],
   "source": [
    "def load_netflix_dataset(spark, file_path):\n",
    "    return spark.read.csv(file_path, header=True, inferSchema=True)"
   ]
  },
  {
   "cell_type": "markdown",
   "id": "bfcebf4c-0a0f-497c-bb28-1e8a72faa963",
   "metadata": {},
   "source": [
    "## Exploring Dataset"
   ]
  },
  {
   "cell_type": "code",
   "execution_count": 14,
   "id": "c44932f7-0dda-4e38-8639-33564d1bf364",
   "metadata": {},
   "outputs": [],
   "source": [
    "def explore_data(df):\n",
    "    print(\"1. Dataset Overview:\")\n",
    "    print(\"Columns:\", df.columns)\n",
    "    print(\"Record Count:\", df.count())\n",
    "    df.describe().show()\n",
    "\n",
    "    print(\"\\n2. Top 10 Directors by Number of Titles:\")\n",
    "    directors = df.select(\"director\") \\\n",
    "        .groupBy(\"director\") \\\n",
    "        .count() \\\n",
    "        .orderBy(F.desc(\"count\")) \\\n",
    "        .limit(10)\n",
    "    directors.show()\n",
    "\n",
    "    print(\"\\n3. Average Release Year by Content Type:\")\n",
    "    release_year_stats = df.groupBy(\"type\") \\\n",
    "        .agg(\n",
    "            F.mean(\"release_year\").alias(\"average_release_year\")\n",
    "        ).orderBy(\"type\")\n",
    "    release_year_stats.show()\n",
    "\n",
    "    print(\"\\n4. Duration Analysis by Content Type:\")\n",
    "    durations = df.withColumn(\"numeric_duration\", \n",
    "                              F.split(F.col(\"duration\"), \" \")[0].cast(\"int\")) \\\n",
    "        .groupBy(\"type\") \\\n",
    "        .agg(\n",
    "            F.mean(\"numeric_duration\").alias(\"average_duration\"),\n",
    "            F.max(\"numeric_duration\").alias(\"max_duration\"),\n",
    "            F.min(\"numeric_duration\").alias(\"min_duration\")\n",
    "        )\n",
    "    durations.show()\n",
    "\n",
    "    print(\"\\n5. Countries with Most Genres:\")\n",
    "    genre_counts = df.groupBy(\"country\") \\\n",
    "        .agg(F.countDistinct(\"listed_in\").alias(\"unique_genres\")) \\\n",
    "        .orderBy(F.desc(\"unique_genres\")) \\\n",
    "        .limit(10)\n",
    "    genre_counts.show()\n",
    "\n",
    "    print(\"\\n6. Titles with the Most Characters:\")\n",
    "    longest_titles = df.select(\"title\", F.length(\"title\").alias(\"title_length\")) \\\n",
    "        .orderBy(F.desc(\"title_length\")) \\\n",
    "        .limit(10)\n",
    "    longest_titles.show()\n",
    "\n",
    "    print(\"\\n7. Ratings Distribution:\")\n",
    "    ratings_distribution = df.groupBy(\"rating\") \\\n",
    "        .count() \\\n",
    "        .orderBy(F.desc(\"count\"))\n",
    "    ratings_distribution.show()"
   ]
  },
  {
   "cell_type": "code",
   "execution_count": 15,
   "id": "b0c4518d-b8b2-4ec4-9d43-10fbc3ced979",
   "metadata": {},
   "outputs": [],
   "source": [
    "spark = create_spark_session()"
   ]
  },
  {
   "cell_type": "markdown",
   "id": "d0037e95-616e-4a18-a26f-054dd4863efc",
   "metadata": {},
   "source": [
    "## Displaying Datasets"
   ]
  },
  {
   "cell_type": "code",
   "execution_count": 16,
   "id": "717b4e65-c92b-44d1-ac2d-fafb4a83c20c",
   "metadata": {},
   "outputs": [
    {
     "name": "stdout",
     "output_type": "stream",
     "text": [
      "1. Basic Dataset Information:\n",
      "root\n",
      " |-- show_id: string (nullable = true)\n",
      " |-- type: string (nullable = true)\n",
      " |-- title: string (nullable = true)\n",
      " |-- director: string (nullable = true)\n",
      " |-- cast: string (nullable = true)\n",
      " |-- country: string (nullable = true)\n",
      " |-- date_added: string (nullable = true)\n",
      " |-- release_year: string (nullable = true)\n",
      " |-- rating: string (nullable = true)\n",
      " |-- duration: string (nullable = true)\n",
      " |-- listed_in: string (nullable = true)\n",
      " |-- description: string (nullable = true)\n",
      "\n",
      "\n",
      "Total number of records: 8809\n",
      "\n",
      "2. Top Directors with the Most Titles:\n",
      "+--------------------+-----------+\n",
      "|            director|title_count|\n",
      "+--------------------+-----------+\n",
      "|                NULL|       2636|\n",
      "|       Rajiv Chilaka|         19|\n",
      "|Raúl Campos, Jan ...|         18|\n",
      "|        Marcus Raboy|         16|\n",
      "|         Suhas Kadav|         16|\n",
      "|           Jay Karas|         14|\n",
      "| Cathy Garcia-Molina|         13|\n",
      "|     Youssef Chahine|         12|\n",
      "|     Martin Scorsese|         12|\n",
      "|         Jay Chapman|         12|\n",
      "+--------------------+-----------+\n",
      "\n",
      "\n",
      "3. Average Release Year by Content Type:\n",
      "+-------------+------------------+\n",
      "|         type|  avg_release_year|\n",
      "+-------------+------------------+\n",
      "|         NULL|              NULL|\n",
      "|        Movie|2013.1326463853452|\n",
      "|      TV Show|2016.6071829405162|\n",
      "|William Wyler|              NULL|\n",
      "+-------------+------------------+\n",
      "\n",
      "\n",
      "4. Distribution of Content by Duration Length:\n",
      "+-------------+------------------+------------+------------+\n",
      "|         type|      avg_duration|max_duration|min_duration|\n",
      "+-------------+------------------+------------+------------+\n",
      "|         NULL|              NULL|        NULL|        NULL|\n",
      "|      TV Show|1.7654320987654322|          17|           1|\n",
      "|        Movie| 99.88907068062828|        1994|           3|\n",
      "|William Wyler|              NULL|        NULL|        NULL|\n",
      "+-------------+------------------+------------+------------+\n",
      "\n",
      "\n",
      "5. Countries with the Most Diverse Genres:\n",
      "+--------------+-----------+\n",
      "|       country|genre_count|\n",
      "+--------------+-----------+\n",
      "| United States|       2805|\n",
      "|         India|        972|\n",
      "|          NULL|        830|\n",
      "|United Kingdom|        419|\n",
      "|         Japan|        245|\n",
      "|   South Korea|        199|\n",
      "|        Canada|        181|\n",
      "|         Spain|        145|\n",
      "|        France|        123|\n",
      "|        Mexico|        110|\n",
      "+--------------+-----------+\n",
      "\n",
      "\n",
      "6. Titles with the Longest Words:\n",
      "+--------------------+------------+\n",
      "|               title|title_length|\n",
      "+--------------------+------------+\n",
      "|Jim & Andy: The G...|         104|\n",
      "|Ken Burns Present...|          93|\n",
      "|Mike Birbiglia: W...|          88|\n",
      "|The Power of Gray...|          88|\n",
      "|Steve Martin and ...|          83|\n",
      "|Cultivating the S...|          79|\n",
      "|Power Rangers Sam...|          78|\n",
      "|Willy and the Gua...|          77|\n",
      "|Ya no estoy aquí:...|          76|\n",
      "|The Road to El Ca...|          75|\n",
      "+--------------------+------------+\n",
      "\n",
      "\n",
      "7. Grouping Content by Rating and Analyzing Count:\n",
      "+-----------------+-----+\n",
      "|           rating|count|\n",
      "+-----------------+-----+\n",
      "|            TV-MA| 3195|\n",
      "|            TV-14| 2158|\n",
      "|            TV-PG|  862|\n",
      "|                R|  796|\n",
      "|            PG-13|  489|\n",
      "|            TV-Y7|  334|\n",
      "|             TV-Y|  307|\n",
      "|               PG|  286|\n",
      "|             TV-G|  220|\n",
      "|               NR|   80|\n",
      "|                G|   41|\n",
      "|             NULL|    6|\n",
      "|         TV-Y7-FV|    6|\n",
      "|               UR|    3|\n",
      "|            NC-17|    3|\n",
      "|             2021|    2|\n",
      "| November 1, 2020|    1|\n",
      "| Shavidee Trotter|    1|\n",
      "|    Adriane Lenox|    1|\n",
      "|    Maury Chaykin|    1|\n",
      "+-----------------+-----+\n",
      "only showing top 20 rows\n",
      "\n"
     ]
    }
   ],
   "source": [
    "\n",
    "dataset_path = 'netflix_titles.csv' \n",
    "\n",
    "netflix_df = load_netflix_dataset(spark, dataset_path)\n",
    "\n",
    "perform_eda(netflix_df)"
   ]
  },
  {
   "cell_type": "code",
   "execution_count": 17,
   "id": "c7dd1f56-dec5-4a70-840d-1c515b1ec79f",
   "metadata": {},
   "outputs": [],
   "source": [
    "spark.stop()"
   ]
  },
  {
   "cell_type": "code",
   "execution_count": null,
   "id": "5271b528-0fc7-4fdd-9f61-ec8bfd50955f",
   "metadata": {},
   "outputs": [],
   "source": []
  }
 ],
 "metadata": {
  "kernelspec": {
   "display_name": "Python 3 (ipykernel)",
   "language": "python",
   "name": "python3"
  },
  "language_info": {
   "codemirror_mode": {
    "name": "ipython",
    "version": 3
   },
   "file_extension": ".py",
   "mimetype": "text/x-python",
   "name": "python",
   "nbconvert_exporter": "python",
   "pygments_lexer": "ipython3",
   "version": "3.11.6"
  }
 },
 "nbformat": 4,
 "nbformat_minor": 5
}
